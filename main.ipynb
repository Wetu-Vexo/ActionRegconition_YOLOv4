{
 "cells": [
  {
   "cell_type": "code",
   "execution_count": 5,
   "metadata": {},
   "outputs": [
    {
     "name": "stdout",
     "output_type": "stream",
     "text": [
      "Requirement already satisfied: opencv-python in /home/wetu/anaconda3/envs/yolov4-cpu/lib/python3.7/site-packages (4.8.0.76)\r\n",
      "Requirement already satisfied: numpy>=1.17.0 in /home/wetu/anaconda3/envs/yolov4-cpu/lib/python3.7/site-packages (from opencv-python) (1.21.6)\r\n"
     ]
    }
   ],
   "source": [
    "import numpy as np\n",
    "!pip install opencv-python\n",
    "import cv2 as cv\n",
    "import matplotlib.pyplot as plt\n",
    "import os\n",
    "import sys\n",
    "import time\n",
    "import math\n"
   ]
  },
  {
   "cell_type": "code",
   "execution_count": 6,
   "metadata": {},
   "outputs": [],
   "source": [
    "# create folder for collection dataset\n",
    "def create_folder(folder_name):\n",
    "    try:\n",
    "        if not os.path.exists(folder_name):\n",
    "            os.makedirs(folder_name)\n",
    "    except OSError:\n",
    "        print(\"Error: Creating directory. \" + folder_name)"
   ]
  },
  {
   "cell_type": "code",
   "execution_count": 7,
   "metadata": {},
   "outputs": [],
   "source": [
    "create_folder('dataset')"
   ]
  },
  {
   "cell_type": "code",
   "execution_count": 8,
   "metadata": {},
   "outputs": [],
   "source": [
    "#create 4 subfolder for each class\n",
    "for i in range(4):\n",
    "    create_folder('dataset/' + str(i))\n",
    "    "
   ]
  },
  {
   "cell_type": "code",
   "execution_count": 9,
   "metadata": {},
   "outputs": [
    {
     "name": "stdout",
     "output_type": "stream",
     "text": [
      "collecting images for class: 0\n"
     ]
    },
    {
     "name": "stderr",
     "output_type": "stream",
     "text": [
      "Warning: Ignoring XDG_SESSION_TYPE=wayland on Gnome. Use QT_QPA_PLATFORM=wayland to run on Wayland anyway.\n"
     ]
    },
    {
     "name": "stdout",
     "output_type": "stream",
     "text": [
      "collecting images for class: 1\n",
      "collecting images for class: 2\n",
      "collecting images for class: 3\n"
     ]
    }
   ],
   "source": [
    "# create dataset with opencv\n",
    "# 30 images for each class\n",
    "# total 120 images\n",
    "# Path: main.ipynb\n",
    "\n",
    "for i in range(4):\n",
    "    cap = cv.VideoCapture(0)\n",
    "    print('collecting images for class: ' + str(i))\n",
    "    time.sleep(5)\n",
    "    for j in range(30):\n",
    "        ret, frame = cap.read()\n",
    "        if ret == False:\n",
    "            continue\n",
    "        cv.imwrite('dataset/'+str(i)+'/'+str(j)+'.jpg', frame)\n",
    "        cv.imshow('frame', frame)\n",
    "        time.sleep(1)\n",
    "        if cv.waitKey(1) & 0xFF == ord('q'):\n",
    "            break\n",
    "    cap.release()\n",
    "    cv.destroyAllWindows()\n"
   ]
  },
  {
   "cell_type": "code",
   "execution_count": null,
   "metadata": {},
   "outputs": [],
   "source": [
    "# mobileNetV2\n",
    "# Path: main.ipynb\n",
    "import tensorflow as tf\n",
    "from tensorflow.keras import layers\n",
    "from tensorflow.keras import Model\n",
    "from tensorflow.keras.applications.mobilenet_v2 import MobileNetV2\n",
    "\n",
    "# load mobilenetV2\n",
    "mobile = MobileNetV2(input_shape=(224, 224, 3), include_top=False, weights='imagenet')\n",
    "#load dataset\n",
    "train_path = 'dataset'\n",
    "train_batches = tf.keras.preprocessing.image.ImageDataGenerator(preprocessing_function=tf.keras.applications.mobilenet_v2.preprocess_input) \\\n",
    "    .flow_from_directory(directory=train_path, target_size=(224, 224), batch_size=10)\n",
    "# split dataset train and validation test\n",
    "train_batches.class_indices\n",
    "x, y = next(train_batches)\n",
    "print(x.shape)\n",
    "print(y.shape)\n",
    "# show image\n"
   ]
  }
 ],
 "metadata": {
  "kernelspec": {
   "display_name": "Python 3 (ipykernel)",
   "language": "python",
   "name": "python3"
  },
  "language_info": {
   "codemirror_mode": {
    "name": "ipython",
    "version": 3
   },
   "file_extension": ".py",
   "mimetype": "text/x-python",
   "name": "python",
   "nbconvert_exporter": "python",
   "pygments_lexer": "ipython3",
   "version": "3.10.12"
  }
 },
 "nbformat": 4,
 "nbformat_minor": 2
}
